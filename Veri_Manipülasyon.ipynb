{
  "nbformat": 4,
  "nbformat_minor": 0,
  "metadata": {
    "colab": {
      "provenance": []
    },
    "kernelspec": {
      "name": "ir",
      "display_name": "R"
    },
    "language_info": {
      "name": "R"
    }
  },
  "cells": [
    {
      "cell_type": "code",
      "execution_count": 2,
      "metadata": {
        "id": "8Cdgg7MCWniT"
      },
      "outputs": [],
      "source": [
        "\n",
        "#dplyr:R programlama dilinde,veri analizi ve özetlemeler amacıyla kullanılan güçlü bir pakettir\n"
      ]
    },
    {
      "cell_type": "code",
      "source": [
        "# Veri oluşturma\n",
        "data <- data.frame(\n",
        "  isim = c(\"Ali\", \"Ayşe\", \"Fatma\", \"Mehmet\", \"Ahmet\", \"Cemre\", \"Deniz\", \"Ezgi\", \"Furkan\", \"Gizem\"),\n",
        "  yaş = c(34, 23, 45, 27, 30, 22, 29, 41, 24, 36),\n",
        "  cinsiyet = c(\"Erkek\", \"Kadın\", \"Kadın\", \"Erkek\", \"Erkek\", \"Kadın\", \"Erkek\", \"Kadın\", \"Erkek\", \"Kadın\"),\n",
        "  departman = c(\"Satış\", \"Pazarlama\", \"Pazarlama\", \"Satış\", \"Muhasebe\", \"Satış\", \"Pazarlama\", \"Satış\", \"Muhasebe\", \"Pazarlama\"),\n",
        "  maaş = c(4000, 4500, 5400, 3900, 4700, 3800, 5000, 6100, 4200, 4800)\n",
        ")\n"
      ],
      "metadata": {
        "id": "gcfNYAY-W7Dx"
      },
      "execution_count": 3,
      "outputs": []
    },
    {
      "cell_type": "code",
      "source": [
        "#Yaşı 30 üzeri olanları al\n",
        "filtered_data=filter(data,yaş>30)\n",
        "print(filtered_data)"
      ],
      "metadata": {
        "colab": {
          "base_uri": "https://localhost:8080/"
        },
        "id": "R8yRTTAaXEVn",
        "outputId": "9dbcf492-94c2-4b57-8d82-5b2ff24f996e"
      },
      "execution_count": 12,
      "outputs": [
        {
          "output_type": "stream",
          "name": "stdout",
          "text": [
            "   isim yaş cinsiyet departman maaş\n",
            "1   Ali  34    Erkek     Satış 4000\n",
            "2 Fatma  45    Kadın Pazarlama 5400\n",
            "3  Ezgi  41    Kadın     Satış 6100\n",
            "4 Gizem  36    Kadın Pazarlama 4800\n"
          ]
        }
      ]
    },
    {
      "cell_type": "code",
      "source": [
        "#Sütun seçme\n",
        "selected_data=select(data,isim,maaş)\n",
        "print(selected_data)"
      ],
      "metadata": {
        "colab": {
          "base_uri": "https://localhost:8080/"
        },
        "id": "THjkfBLgX1__",
        "outputId": "dc43e7b4-4ccf-427c-fdac-86342bf2127f"
      },
      "execution_count": 13,
      "outputs": [
        {
          "output_type": "stream",
          "name": "stdout",
          "text": [
            "     isim maaş\n",
            "1     Ali 4000\n",
            "2    Ayşe 4500\n",
            "3   Fatma 5400\n",
            "4  Mehmet 3900\n",
            "5   Ahmet 4700\n",
            "6   Cemre 3800\n",
            "7   Deniz 5000\n",
            "8    Ezgi 6100\n",
            "9  Furkan 4200\n",
            "10  Gizem 4800\n"
          ]
        }
      ]
    },
    {
      "cell_type": "code",
      "source": [
        "#Sıralama\n",
        "arranged_data=arrange(data,desc(maaş))\n",
        "print(arranged_data)"
      ],
      "metadata": {
        "colab": {
          "base_uri": "https://localhost:8080/"
        },
        "id": "KOSqStwcarky",
        "outputId": "5ffbf142-96c1-4272-d046-78af39e33838"
      },
      "execution_count": 14,
      "outputs": [
        {
          "output_type": "stream",
          "name": "stdout",
          "text": [
            "     isim yaş cinsiyet departman maaş\n",
            "1    Ezgi  41    Kadın     Satış 6100\n",
            "2   Fatma  45    Kadın Pazarlama 5400\n",
            "3   Deniz  29    Erkek Pazarlama 5000\n",
            "4   Gizem  36    Kadın Pazarlama 4800\n",
            "5   Ahmet  30    Erkek  Muhasebe 4700\n",
            "6    Ayşe  23    Kadın Pazarlama 4500\n",
            "7  Furkan  24    Erkek  Muhasebe 4200\n",
            "8     Ali  34    Erkek     Satış 4000\n",
            "9  Mehmet  27    Erkek     Satış 3900\n",
            "10  Cemre  22    Kadın     Satış 3800\n"
          ]
        }
      ]
    },
    {
      "cell_type": "code",
      "source": [
        "#Departmana göre gruplama ve ortalama maaş hesaplama\n",
        "group_data=group_by(data,departman)\n",
        "summary_data=summarize(group_data,ort_maas=mean(maaş))\n",
        "\n",
        "print(group_data)\n",
        "print(summary_data)"
      ],
      "metadata": {
        "colab": {
          "base_uri": "https://localhost:8080/"
        },
        "id": "TMmtwVPwazd6",
        "outputId": "2e6e1131-3836-46b2-b0e0-c2d6428e5296"
      },
      "execution_count": 15,
      "outputs": [
        {
          "output_type": "stream",
          "name": "stdout",
          "text": [
            "\u001b[90m# A tibble: 10 × 5\u001b[39m\n",
            "\u001b[90m# Groups:   departman [3]\u001b[39m\n",
            "   isim     yaş cinsiyet departman  maaş\n",
            "   \u001b[3m\u001b[90m<chr>\u001b[39m\u001b[23m  \u001b[3m\u001b[90m<dbl>\u001b[39m\u001b[23m \u001b[3m\u001b[90m<chr>\u001b[39m\u001b[23m    \u001b[3m\u001b[90m<chr>\u001b[39m\u001b[23m     \u001b[3m\u001b[90m<dbl>\u001b[39m\u001b[23m\n",
            "\u001b[90m 1\u001b[39m Ali       34 Erkek    Satış      \u001b[4m4\u001b[24m000\n",
            "\u001b[90m 2\u001b[39m Ayşe      23 Kadın    Pazarlama  \u001b[4m4\u001b[24m500\n",
            "\u001b[90m 3\u001b[39m Fatma     45 Kadın    Pazarlama  \u001b[4m5\u001b[24m400\n",
            "\u001b[90m 4\u001b[39m Mehmet    27 Erkek    Satış      \u001b[4m3\u001b[24m900\n",
            "\u001b[90m 5\u001b[39m Ahmet     30 Erkek    Muhasebe   \u001b[4m4\u001b[24m700\n",
            "\u001b[90m 6\u001b[39m Cemre     22 Kadın    Satış      \u001b[4m3\u001b[24m800\n",
            "\u001b[90m 7\u001b[39m Deniz     29 Erkek    Pazarlama  \u001b[4m5\u001b[24m000\n",
            "\u001b[90m 8\u001b[39m Ezgi      41 Kadın    Satış      \u001b[4m6\u001b[24m100\n",
            "\u001b[90m 9\u001b[39m Furkan    24 Erkek    Muhasebe   \u001b[4m4\u001b[24m200\n",
            "\u001b[90m10\u001b[39m Gizem     36 Kadın    Pazarlama  \u001b[4m4\u001b[24m800\n",
            "\u001b[90m# A tibble: 3 × 2\u001b[39m\n",
            "  departman ort_maas\n",
            "  \u001b[3m\u001b[90m<chr>\u001b[39m\u001b[23m        \u001b[3m\u001b[90m<dbl>\u001b[39m\u001b[23m\n",
            "\u001b[90m1\u001b[39m Muhasebe      \u001b[4m4\u001b[24m450\n",
            "\u001b[90m2\u001b[39m Pazarlama     \u001b[4m4\u001b[24m925\n",
            "\u001b[90m3\u001b[39m Satış         \u001b[4m4\u001b[24m450\n"
          ]
        }
      ]
    },
    {
      "cell_type": "code",
      "source": [
        "#stringr paketi:metin verilerini işlemek icindir.Metin manipülasyonları icin uygundur\n",
        "library(stringr)\n",
        "\n",
        "text=\"Merhaba R programlama\"\n",
        "str_length(text)"
      ],
      "metadata": {
        "colab": {
          "base_uri": "https://localhost:8080/",
          "height": 34
        },
        "id": "tbY5eMzmbZX6",
        "outputId": "da94ee99-2acc-416d-964e-0d2055faae31"
      },
      "execution_count": 16,
      "outputs": [
        {
          "output_type": "display_data",
          "data": {
            "text/html": [
              "21"
            ],
            "text/markdown": "21",
            "text/latex": "21",
            "text/plain": [
              "[1] 21"
            ]
          },
          "metadata": {}
        }
      ]
    },
    {
      "cell_type": "code",
      "source": [
        "#Bir karakter dizisinden bir bölümü çıkarın\n",
        "str_sub(text,1,3)"
      ],
      "metadata": {
        "colab": {
          "base_uri": "https://localhost:8080/",
          "height": 34
        },
        "id": "GUmisyb5eQrq",
        "outputId": "61a876c5-177d-4053-f224-293592f4373e"
      },
      "execution_count": 17,
      "outputs": [
        {
          "output_type": "display_data",
          "data": {
            "text/html": [
              "'Mer'"
            ],
            "text/markdown": "'Mer'",
            "text/latex": "'Mer'",
            "text/plain": [
              "[1] \"Mer\""
            ]
          },
          "metadata": {}
        }
      ]
    },
    {
      "cell_type": "code",
      "source": [
        "#Karakter büyüt küçült\n",
        "str_to_lower(text)\n",
        "str_to_upper(text)"
      ],
      "metadata": {
        "colab": {
          "base_uri": "https://localhost:8080/",
          "height": 52
        },
        "id": "w_fd4SM9ep4W",
        "outputId": "08db55ca-a7c2-4773-d969-649887b83514"
      },
      "execution_count": 18,
      "outputs": [
        {
          "output_type": "display_data",
          "data": {
            "text/html": [
              "'merhaba r programlama'"
            ],
            "text/markdown": "'merhaba r programlama'",
            "text/latex": "'merhaba r programlama'",
            "text/plain": [
              "[1] \"merhaba r programlama\""
            ]
          },
          "metadata": {}
        },
        {
          "output_type": "display_data",
          "data": {
            "text/html": [
              "'MERHABA R PROGRAMLAMA'"
            ],
            "text/markdown": "'MERHABA R PROGRAMLAMA'",
            "text/latex": "'MERHABA R PROGRAMLAMA'",
            "text/plain": [
              "[1] \"MERHABA R PROGRAMLAMA\""
            ]
          },
          "metadata": {}
        }
      ]
    },
    {
      "cell_type": "code",
      "source": [
        "yazi=\"R dili veri analizi icin kullanılır\"\n",
        "str_replace(yazi,\"dili\",\"programlama dili\")"
      ],
      "metadata": {
        "colab": {
          "base_uri": "https://localhost:8080/",
          "height": 34
        },
        "id": "tYgVtvIbexg1",
        "outputId": "618f1e57-89ed-4415-c491-3286e40b54ed"
      },
      "execution_count": 19,
      "outputs": [
        {
          "output_type": "display_data",
          "data": {
            "text/html": [
              "'R programlama dili veri analizi icin kullanılır'"
            ],
            "text/markdown": "'R programlama dili veri analizi icin kullanılır'",
            "text/latex": "'R programlama dili veri analizi icin kullanılır'",
            "text/plain": [
              "[1] \"R programlama dili veri analizi icin kullanılır\""
            ]
          },
          "metadata": {}
        }
      ]
    },
    {
      "cell_type": "code",
      "source": [
        "#Karakter kontrolü yapalım\n",
        "str_detect(text,\"R\")"
      ],
      "metadata": {
        "colab": {
          "base_uri": "https://localhost:8080/",
          "height": 34
        },
        "id": "hhKoL6Y7g2R9",
        "outputId": "5bdeed21-35b3-46e3-b733-90f8a3198491"
      },
      "execution_count": 21,
      "outputs": [
        {
          "output_type": "display_data",
          "data": {
            "text/html": [
              "TRUE"
            ],
            "text/markdown": "TRUE",
            "text/latex": "TRUE",
            "text/plain": [
              "[1] TRUE"
            ]
          },
          "metadata": {}
        }
      ]
    },
    {
      "cell_type": "code",
      "source": [
        "#Baş ve sonlarında boşluk kaldırır\n",
        "str_trim(text)"
      ],
      "metadata": {
        "colab": {
          "base_uri": "https://localhost:8080/",
          "height": 34
        },
        "id": "o3GyfZ7AhKe8",
        "outputId": "28c09aa8-3aa9-4588-e212-d957ab003fd6"
      },
      "execution_count": 22,
      "outputs": [
        {
          "output_type": "display_data",
          "data": {
            "text/html": [
              "'Merhaba R programlama'"
            ],
            "text/markdown": "'Merhaba R programlama'",
            "text/latex": "'Merhaba R programlama'",
            "text/plain": [
              "[1] \"Merhaba R programlama\""
            ]
          },
          "metadata": {}
        }
      ]
    },
    {
      "cell_type": "code",
      "source": [
        "#Lubridate paketi:tarih,saat,verilerini kolayca islemek icin kullanılır\n",
        "library(lubridate)\n",
        "\n",
        "tarih=\"2024-11-12\"\n",
        "ymd(tarih)"
      ],
      "metadata": {
        "colab": {
          "base_uri": "https://localhost:8080/",
          "height": 191
        },
        "id": "n9TXaOg-hTS_",
        "outputId": "77bcc814-87fb-42f7-ae2a-8770b78bae71"
      },
      "execution_count": 24,
      "outputs": [
        {
          "output_type": "stream",
          "name": "stderr",
          "text": [
            "\n",
            "Attaching package: ‘lubridate’\n",
            "\n",
            "\n",
            "The following objects are masked from ‘package:base’:\n",
            "\n",
            "    date, intersect, setdiff, union\n",
            "\n",
            "\n"
          ]
        },
        {
          "output_type": "display_data",
          "data": {
            "text/html": [
              "<time datetime=\"2024-11-12\">2024-11-12</time>"
            ],
            "text/markdown": "2024-11-12",
            "text/latex": "2024-11-12",
            "text/plain": [
              "[1] \"2024-11-12\""
            ]
          },
          "metadata": {}
        }
      ]
    },
    {
      "cell_type": "code",
      "source": [
        "#Geçerli tarih ve anı alalım\n",
        "today()\n",
        "now()"
      ],
      "metadata": {
        "colab": {
          "base_uri": "https://localhost:8080/",
          "height": 52
        },
        "id": "lCGQaojxh1Pz",
        "outputId": "456d4d0d-0d38-48c5-f166-bd76625e5152"
      },
      "execution_count": 25,
      "outputs": [
        {
          "output_type": "display_data",
          "data": {
            "text/html": [
              "<time datetime=\"2024-11-12\">2024-11-12</time>"
            ],
            "text/markdown": "2024-11-12",
            "text/latex": "2024-11-12",
            "text/plain": [
              "[1] \"2024-11-12\""
            ]
          },
          "metadata": {}
        },
        {
          "output_type": "display_data",
          "data": {
            "text/plain": [
              "[1] \"2024-11-12 08:40:09 UTC\""
            ]
          },
          "metadata": {}
        }
      ]
    },
    {
      "cell_type": "code",
      "source": [
        "#Tarih verisinden yıl ay ve günü alır\n",
        "year(tarih)\n",
        "month(tarih)\n",
        "day(tarih)"
      ],
      "metadata": {
        "colab": {
          "base_uri": "https://localhost:8080/",
          "height": 69
        },
        "id": "6DvXVDe_h8Cr",
        "outputId": "baa20871-8a13-4801-bcc8-e7eaf7b54096"
      },
      "execution_count": 27,
      "outputs": [
        {
          "output_type": "display_data",
          "data": {
            "text/html": [
              "2024"
            ],
            "text/markdown": "2024",
            "text/latex": "2024",
            "text/plain": [
              "[1] 2024"
            ]
          },
          "metadata": {}
        },
        {
          "output_type": "display_data",
          "data": {
            "text/html": [
              "11"
            ],
            "text/markdown": "11",
            "text/latex": "11",
            "text/plain": [
              "[1] 11"
            ]
          },
          "metadata": {}
        },
        {
          "output_type": "display_data",
          "data": {
            "text/html": [
              "12"
            ],
            "text/markdown": "12",
            "text/latex": "12",
            "text/plain": [
              "[1] 12"
            ]
          },
          "metadata": {}
        }
      ]
    },
    {
      "cell_type": "code",
      "source": [
        "tarih_saat <- ymd_hms(\"2023-11-12 14:35:45\")\n",
        "hour(tarih_saat)    # Çıktı: 14\n",
        "minute(tarih_saat)  # Çıktı: 35\n",
        "second(tarih_saat)  # Çıktı: 45\n"
      ],
      "metadata": {
        "colab": {
          "base_uri": "https://localhost:8080/",
          "height": 69
        },
        "id": "WaGLQ8jIiGG7",
        "outputId": "8fec0561-97fe-4dc1-d8ca-cdc7b1aa2363"
      },
      "execution_count": 28,
      "outputs": [
        {
          "output_type": "display_data",
          "data": {
            "text/html": [
              "14"
            ],
            "text/markdown": "14",
            "text/latex": "14",
            "text/plain": [
              "[1] 14"
            ]
          },
          "metadata": {}
        },
        {
          "output_type": "display_data",
          "data": {
            "text/html": [
              "35"
            ],
            "text/markdown": "35",
            "text/latex": "35",
            "text/plain": [
              "[1] 35"
            ]
          },
          "metadata": {}
        },
        {
          "output_type": "display_data",
          "data": {
            "text/html": [
              "45"
            ],
            "text/markdown": "45",
            "text/latex": "45",
            "text/plain": [
              "[1] 45"
            ]
          },
          "metadata": {}
        }
      ]
    }
  ]
}